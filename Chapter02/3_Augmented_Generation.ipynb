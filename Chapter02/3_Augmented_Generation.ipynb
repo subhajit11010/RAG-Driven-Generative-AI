{
  "cells": [
    {
      "cell_type": "markdown",
      "metadata": {
        "id": "YMfhL3l9Nj-S"
      },
      "source": [
        "#Embedding-Based Retrieval with Deep Lake and OpenAI\n",
        "\n",
        "Copyright 2024 Denis Rothman\n",
        "\n"
      ]
    },
    {
      "cell_type": "markdown",
      "metadata": {
        "id": "QE7BlcRs_VTr"
      },
      "source": [
        "# 1. Installing the environment"
      ]
    },
    {
      "cell_type": "markdown",
      "source": [
        "*First run the following cells and restart Google Colab session if prompted. Then run the notebook again cell by cell to explore the code.*"
      ],
      "metadata": {
        "id": "RPnUMhOjfBNE"
      }
    },
    {
      "cell_type": "code",
      "source": [
        "try:\n",
        "  import deeplake\n",
        "except:\n",
        "  !pip install deeplake==3.9.18\n",
        "  import deeplake"
      ],
      "metadata": {
        "id": "q_VA6VANdsZM",
        "collapsed": true
      },
      "execution_count": null,
      "outputs": []
    },
    {
      "cell_type": "code",
      "source": [
        "#Google Drive option to store API Keys\n",
        "#Store you key in a file and read it(you can type it directly in the notebook but it will be visible for somebody next to you)\n",
        "from google.colab import drive\n",
        "drive.mount('/content/drive')"
      ],
      "metadata": {
        "colab": {
          "base_uri": "https://localhost:8080/"
        },
        "outputId": "d6afb8c7-c2a0-477d-81d1-1c75a9c4c9d6",
        "id": "vJZSIr-nyEJN"
      },
      "execution_count": null,
      "outputs": [
        {
          "output_type": "stream",
          "name": "stdout",
          "text": [
            "Mounted at /content/drive\n"
          ]
        }
      ]
    },
    {
      "cell_type": "code",
      "source": [
        "!pip install openai==1.40.3"
      ],
      "metadata": {
        "colab": {
          "base_uri": "https://localhost:8080/"
        },
        "id": "-KKcEhWzyKMD",
        "outputId": "6af274e1-b8e9-4307-dd98-6fb69db7fce3"
      },
      "execution_count": null,
      "outputs": [
        {
          "output_type": "stream",
          "name": "stdout",
          "text": [
            "Collecting openai==1.40.3\n",
            "  Downloading openai-1.40.3-py3-none-any.whl.metadata (22 kB)\n",
            "Requirement already satisfied: anyio<5,>=3.5.0 in /usr/local/lib/python3.10/dist-packages (from openai==1.40.3) (3.7.1)\n",
            "Requirement already satisfied: distro<2,>=1.7.0 in /usr/lib/python3/dist-packages (from openai==1.40.3) (1.7.0)\n",
            "Collecting httpx<1,>=0.23.0 (from openai==1.40.3)\n",
            "  Downloading httpx-0.27.0-py3-none-any.whl.metadata (7.2 kB)\n",
            "Collecting jiter<1,>=0.4.0 (from openai==1.40.3)\n",
            "  Downloading jiter-0.5.0-cp310-cp310-manylinux_2_17_x86_64.manylinux2014_x86_64.whl.metadata (3.6 kB)\n",
            "Requirement already satisfied: pydantic<3,>=1.9.0 in /usr/local/lib/python3.10/dist-packages (from openai==1.40.3) (2.8.2)\n",
            "Requirement already satisfied: sniffio in /usr/local/lib/python3.10/dist-packages (from openai==1.40.3) (1.3.1)\n",
            "Requirement already satisfied: tqdm>4 in /usr/local/lib/python3.10/dist-packages (from openai==1.40.3) (4.66.5)\n",
            "Requirement already satisfied: typing-extensions<5,>=4.11 in /usr/local/lib/python3.10/dist-packages (from openai==1.40.3) (4.12.2)\n",
            "Requirement already satisfied: idna>=2.8 in /usr/local/lib/python3.10/dist-packages (from anyio<5,>=3.5.0->openai==1.40.3) (3.7)\n",
            "Requirement already satisfied: exceptiongroup in /usr/local/lib/python3.10/dist-packages (from anyio<5,>=3.5.0->openai==1.40.3) (1.2.2)\n",
            "Requirement already satisfied: certifi in /usr/local/lib/python3.10/dist-packages (from httpx<1,>=0.23.0->openai==1.40.3) (2024.7.4)\n",
            "Collecting httpcore==1.* (from httpx<1,>=0.23.0->openai==1.40.3)\n",
            "  Downloading httpcore-1.0.5-py3-none-any.whl.metadata (20 kB)\n",
            "Collecting h11<0.15,>=0.13 (from httpcore==1.*->httpx<1,>=0.23.0->openai==1.40.3)\n",
            "  Downloading h11-0.14.0-py3-none-any.whl.metadata (8.2 kB)\n",
            "Requirement already satisfied: annotated-types>=0.4.0 in /usr/local/lib/python3.10/dist-packages (from pydantic<3,>=1.9.0->openai==1.40.3) (0.7.0)\n",
            "Requirement already satisfied: pydantic-core==2.20.1 in /usr/local/lib/python3.10/dist-packages (from pydantic<3,>=1.9.0->openai==1.40.3) (2.20.1)\n",
            "Downloading openai-1.40.3-py3-none-any.whl (360 kB)\n",
            "\u001b[2K   \u001b[90m━━━━━━━━━━━━━━━━━━━━━━━━━━━━━━━━━━━━━━━━\u001b[0m \u001b[32m360.7/360.7 kB\u001b[0m \u001b[31m7.8 MB/s\u001b[0m eta \u001b[36m0:00:00\u001b[0m\n",
            "\u001b[?25hDownloading httpx-0.27.0-py3-none-any.whl (75 kB)\n",
            "\u001b[2K   \u001b[90m━━━━━━━━━━━━━━━━━━━━━━━━━━━━━━━━━━━━━━━━\u001b[0m \u001b[32m75.6/75.6 kB\u001b[0m \u001b[31m5.3 MB/s\u001b[0m eta \u001b[36m0:00:00\u001b[0m\n",
            "\u001b[?25hDownloading httpcore-1.0.5-py3-none-any.whl (77 kB)\n",
            "\u001b[2K   \u001b[90m━━━━━━━━━━━━━━━━━━━━━━━━━━━━━━━━━━━━━━━━\u001b[0m \u001b[32m77.9/77.9 kB\u001b[0m \u001b[31m6.0 MB/s\u001b[0m eta \u001b[36m0:00:00\u001b[0m\n",
            "\u001b[?25hDownloading jiter-0.5.0-cp310-cp310-manylinux_2_17_x86_64.manylinux2014_x86_64.whl (318 kB)\n",
            "\u001b[2K   \u001b[90m━━━━━━━━━━━━━━━━━━━━━━━━━━━━━━━━━━━━━━━━\u001b[0m \u001b[32m318.9/318.9 kB\u001b[0m \u001b[31m21.0 MB/s\u001b[0m eta \u001b[36m0:00:00\u001b[0m\n",
            "\u001b[?25hDownloading h11-0.14.0-py3-none-any.whl (58 kB)\n",
            "\u001b[2K   \u001b[90m━━━━━━━━━━━━━━━━━━━━━━━━━━━━━━━━━━━━━━━━\u001b[0m \u001b[32m58.3/58.3 kB\u001b[0m \u001b[31m4.4 MB/s\u001b[0m eta \u001b[36m0:00:00\u001b[0m\n",
            "\u001b[?25hInstalling collected packages: jiter, h11, httpcore, httpx, openai\n",
            "Successfully installed h11-0.14.0 httpcore-1.0.5 httpx-0.27.0 jiter-0.5.0 openai-1.40.3\n"
          ]
        }
      ]
    },
    {
      "cell_type": "code",
      "source": [
        "# For Google Colab and Activeloop while waiting for Activeloop (April 2024) pending new version\n",
        "#This line writes the string \"nameserver 8.8.8.8\" to the file. This is specifying that the DNS server the system\n",
        "#should use is at the IP address 8.8.8.8, which is one of Google's Public DNS servers.\n",
        "with open('/etc/resolv.conf', 'w') as file:\n",
        "   file.write(\"nameserver 8.8.8.8\")"
      ],
      "metadata": {
        "id": "VdwjroyJyOiu"
      },
      "execution_count": null,
      "outputs": []
    },
    {
      "cell_type": "code",
      "source": [
        "#Retrieving and setting the OpenAI API key\n",
        "f = open(\"drive/MyDrive/files/api_key.txt\", \"r\")\n",
        "API_KEY=f.readline().strip()\n",
        "f.close()\n",
        "\n",
        "#The OpenAI KeyActiveloop and OpenAI API keys\n",
        "import os\n",
        "import openai\n",
        "os.environ['OPENAI_API_KEY'] =API_KEY\n",
        "openai.api_key = os.getenv(\"OPENAI_API_KEY\")"
      ],
      "metadata": {
        "id": "oJJocJaJySoT"
      },
      "execution_count": null,
      "outputs": []
    },
    {
      "cell_type": "code",
      "source": [
        "#Retrieving and setting the Activeloop API token\n",
        "f = open(\"drive/MyDrive/files/activeloop.txt\", \"r\")\n",
        "API_token=f.readline().strip()\n",
        "f.close()\n",
        "ACTIVELOOP_TOKEN=API_token\n",
        "os.environ['ACTIVELOOP_TOKEN'] =ACTIVELOOP_TOKEN"
      ],
      "metadata": {
        "id": "WtG5ywRfyVHT"
      },
      "execution_count": null,
      "outputs": []
    },
    {
      "cell_type": "code",
      "execution_count": null,
      "metadata": {
        "id": "MVEkwfwKQd31",
        "outputId": "c25e2e10-a04a-41aa-96f2-7d77d2dce6cc",
        "colab": {
          "base_uri": "https://localhost:8080/"
        }
      },
      "outputs": [
        {
          "output_type": "stream",
          "name": "stdout",
          "text": [
            "Collecting sentence-transformers==3.0.1\n",
            "  Downloading sentence_transformers-3.0.1-py3-none-any.whl.metadata (10 kB)\n",
            "Requirement already satisfied: transformers<5.0.0,>=4.34.0 in /usr/local/lib/python3.10/dist-packages (from sentence-transformers==3.0.1) (4.42.4)\n",
            "Requirement already satisfied: tqdm in /usr/local/lib/python3.10/dist-packages (from sentence-transformers==3.0.1) (4.66.5)\n",
            "Requirement already satisfied: torch>=1.11.0 in /usr/local/lib/python3.10/dist-packages (from sentence-transformers==3.0.1) (2.3.1+cu121)\n",
            "Requirement already satisfied: numpy in /usr/local/lib/python3.10/dist-packages (from sentence-transformers==3.0.1) (1.26.4)\n",
            "Requirement already satisfied: scikit-learn in /usr/local/lib/python3.10/dist-packages (from sentence-transformers==3.0.1) (1.3.2)\n",
            "Requirement already satisfied: scipy in /usr/local/lib/python3.10/dist-packages (from sentence-transformers==3.0.1) (1.13.1)\n",
            "Requirement already satisfied: huggingface-hub>=0.15.1 in /usr/local/lib/python3.10/dist-packages (from sentence-transformers==3.0.1) (0.23.5)\n",
            "Requirement already satisfied: Pillow in /usr/local/lib/python3.10/dist-packages (from sentence-transformers==3.0.1) (10.2.0)\n",
            "Requirement already satisfied: filelock in /usr/local/lib/python3.10/dist-packages (from huggingface-hub>=0.15.1->sentence-transformers==3.0.1) (3.15.4)\n",
            "Requirement already satisfied: fsspec>=2023.5.0 in /usr/local/lib/python3.10/dist-packages (from huggingface-hub>=0.15.1->sentence-transformers==3.0.1) (2024.6.1)\n",
            "Requirement already satisfied: packaging>=20.9 in /usr/local/lib/python3.10/dist-packages (from huggingface-hub>=0.15.1->sentence-transformers==3.0.1) (24.1)\n",
            "Requirement already satisfied: pyyaml>=5.1 in /usr/local/lib/python3.10/dist-packages (from huggingface-hub>=0.15.1->sentence-transformers==3.0.1) (6.0.2)\n",
            "Requirement already satisfied: requests in /usr/local/lib/python3.10/dist-packages (from huggingface-hub>=0.15.1->sentence-transformers==3.0.1) (2.32.3)\n",
            "Requirement already satisfied: typing-extensions>=3.7.4.3 in /usr/local/lib/python3.10/dist-packages (from huggingface-hub>=0.15.1->sentence-transformers==3.0.1) (4.12.2)\n",
            "Requirement already satisfied: sympy in /usr/local/lib/python3.10/dist-packages (from torch>=1.11.0->sentence-transformers==3.0.1) (1.13.1)\n",
            "Requirement already satisfied: networkx in /usr/local/lib/python3.10/dist-packages (from torch>=1.11.0->sentence-transformers==3.0.1) (3.3)\n",
            "Requirement already satisfied: jinja2 in /usr/local/lib/python3.10/dist-packages (from torch>=1.11.0->sentence-transformers==3.0.1) (3.1.4)\n",
            "Collecting nvidia-cuda-nvrtc-cu12==12.1.105 (from torch>=1.11.0->sentence-transformers==3.0.1)\n",
            "  Using cached nvidia_cuda_nvrtc_cu12-12.1.105-py3-none-manylinux1_x86_64.whl.metadata (1.5 kB)\n",
            "Collecting nvidia-cuda-runtime-cu12==12.1.105 (from torch>=1.11.0->sentence-transformers==3.0.1)\n",
            "  Using cached nvidia_cuda_runtime_cu12-12.1.105-py3-none-manylinux1_x86_64.whl.metadata (1.5 kB)\n",
            "Collecting nvidia-cuda-cupti-cu12==12.1.105 (from torch>=1.11.0->sentence-transformers==3.0.1)\n",
            "  Using cached nvidia_cuda_cupti_cu12-12.1.105-py3-none-manylinux1_x86_64.whl.metadata (1.6 kB)\n",
            "Collecting nvidia-cudnn-cu12==8.9.2.26 (from torch>=1.11.0->sentence-transformers==3.0.1)\n",
            "  Using cached nvidia_cudnn_cu12-8.9.2.26-py3-none-manylinux1_x86_64.whl.metadata (1.6 kB)\n",
            "Collecting nvidia-cublas-cu12==12.1.3.1 (from torch>=1.11.0->sentence-transformers==3.0.1)\n",
            "  Using cached nvidia_cublas_cu12-12.1.3.1-py3-none-manylinux1_x86_64.whl.metadata (1.5 kB)\n",
            "Collecting nvidia-cufft-cu12==11.0.2.54 (from torch>=1.11.0->sentence-transformers==3.0.1)\n",
            "  Using cached nvidia_cufft_cu12-11.0.2.54-py3-none-manylinux1_x86_64.whl.metadata (1.5 kB)\n",
            "Collecting nvidia-curand-cu12==10.3.2.106 (from torch>=1.11.0->sentence-transformers==3.0.1)\n",
            "  Using cached nvidia_curand_cu12-10.3.2.106-py3-none-manylinux1_x86_64.whl.metadata (1.5 kB)\n",
            "Collecting nvidia-cusolver-cu12==11.4.5.107 (from torch>=1.11.0->sentence-transformers==3.0.1)\n",
            "  Using cached nvidia_cusolver_cu12-11.4.5.107-py3-none-manylinux1_x86_64.whl.metadata (1.6 kB)\n",
            "Collecting nvidia-cusparse-cu12==12.1.0.106 (from torch>=1.11.0->sentence-transformers==3.0.1)\n",
            "  Using cached nvidia_cusparse_cu12-12.1.0.106-py3-none-manylinux1_x86_64.whl.metadata (1.6 kB)\n",
            "Collecting nvidia-nccl-cu12==2.20.5 (from torch>=1.11.0->sentence-transformers==3.0.1)\n",
            "  Using cached nvidia_nccl_cu12-2.20.5-py3-none-manylinux2014_x86_64.whl.metadata (1.8 kB)\n",
            "Collecting nvidia-nvtx-cu12==12.1.105 (from torch>=1.11.0->sentence-transformers==3.0.1)\n",
            "  Using cached nvidia_nvtx_cu12-12.1.105-py3-none-manylinux1_x86_64.whl.metadata (1.7 kB)\n",
            "Requirement already satisfied: triton==2.3.1 in /usr/local/lib/python3.10/dist-packages (from torch>=1.11.0->sentence-transformers==3.0.1) (2.3.1)\n",
            "Collecting nvidia-nvjitlink-cu12 (from nvidia-cusolver-cu12==11.4.5.107->torch>=1.11.0->sentence-transformers==3.0.1)\n",
            "  Using cached nvidia_nvjitlink_cu12-12.6.20-py3-none-manylinux2014_x86_64.whl.metadata (1.5 kB)\n",
            "Requirement already satisfied: regex!=2019.12.17 in /usr/local/lib/python3.10/dist-packages (from transformers<5.0.0,>=4.34.0->sentence-transformers==3.0.1) (2024.5.15)\n",
            "Requirement already satisfied: safetensors>=0.4.1 in /usr/local/lib/python3.10/dist-packages (from transformers<5.0.0,>=4.34.0->sentence-transformers==3.0.1) (0.4.4)\n",
            "Requirement already satisfied: tokenizers<0.20,>=0.19 in /usr/local/lib/python3.10/dist-packages (from transformers<5.0.0,>=4.34.0->sentence-transformers==3.0.1) (0.19.1)\n",
            "Requirement already satisfied: joblib>=1.1.1 in /usr/local/lib/python3.10/dist-packages (from scikit-learn->sentence-transformers==3.0.1) (1.4.2)\n",
            "Requirement already satisfied: threadpoolctl>=2.0.0 in /usr/local/lib/python3.10/dist-packages (from scikit-learn->sentence-transformers==3.0.1) (3.5.0)\n",
            "Requirement already satisfied: MarkupSafe>=2.0 in /usr/local/lib/python3.10/dist-packages (from jinja2->torch>=1.11.0->sentence-transformers==3.0.1) (2.1.5)\n",
            "Requirement already satisfied: charset-normalizer<4,>=2 in /usr/local/lib/python3.10/dist-packages (from requests->huggingface-hub>=0.15.1->sentence-transformers==3.0.1) (3.3.2)\n",
            "Requirement already satisfied: idna<4,>=2.5 in /usr/local/lib/python3.10/dist-packages (from requests->huggingface-hub>=0.15.1->sentence-transformers==3.0.1) (3.7)\n",
            "Requirement already satisfied: urllib3<3,>=1.21.1 in /usr/local/lib/python3.10/dist-packages (from requests->huggingface-hub>=0.15.1->sentence-transformers==3.0.1) (2.0.7)\n",
            "Requirement already satisfied: certifi>=2017.4.17 in /usr/local/lib/python3.10/dist-packages (from requests->huggingface-hub>=0.15.1->sentence-transformers==3.0.1) (2024.7.4)\n",
            "Requirement already satisfied: mpmath<1.4,>=1.1.0 in /usr/local/lib/python3.10/dist-packages (from sympy->torch>=1.11.0->sentence-transformers==3.0.1) (1.3.0)\n",
            "Downloading sentence_transformers-3.0.1-py3-none-any.whl (227 kB)\n",
            "\u001b[2K   \u001b[90m━━━━━━━━━━━━━━━━━━━━━━━━━━━━━━━━━━━━━━━━\u001b[0m \u001b[32m227.1/227.1 kB\u001b[0m \u001b[31m3.9 MB/s\u001b[0m eta \u001b[36m0:00:00\u001b[0m\n",
            "\u001b[?25hUsing cached nvidia_cublas_cu12-12.1.3.1-py3-none-manylinux1_x86_64.whl (410.6 MB)\n",
            "Using cached nvidia_cuda_cupti_cu12-12.1.105-py3-none-manylinux1_x86_64.whl (14.1 MB)\n",
            "Using cached nvidia_cuda_nvrtc_cu12-12.1.105-py3-none-manylinux1_x86_64.whl (23.7 MB)\n",
            "Using cached nvidia_cuda_runtime_cu12-12.1.105-py3-none-manylinux1_x86_64.whl (823 kB)\n",
            "Using cached nvidia_cudnn_cu12-8.9.2.26-py3-none-manylinux1_x86_64.whl (731.7 MB)\n",
            "Using cached nvidia_cufft_cu12-11.0.2.54-py3-none-manylinux1_x86_64.whl (121.6 MB)\n",
            "Using cached nvidia_curand_cu12-10.3.2.106-py3-none-manylinux1_x86_64.whl (56.5 MB)\n",
            "Using cached nvidia_cusolver_cu12-11.4.5.107-py3-none-manylinux1_x86_64.whl (124.2 MB)\n",
            "Using cached nvidia_cusparse_cu12-12.1.0.106-py3-none-manylinux1_x86_64.whl (196.0 MB)\n",
            "Using cached nvidia_nccl_cu12-2.20.5-py3-none-manylinux2014_x86_64.whl (176.2 MB)\n",
            "Using cached nvidia_nvtx_cu12-12.1.105-py3-none-manylinux1_x86_64.whl (99 kB)\n",
            "Using cached nvidia_nvjitlink_cu12-12.6.20-py3-none-manylinux2014_x86_64.whl (19.7 MB)\n",
            "Installing collected packages: nvidia-nvtx-cu12, nvidia-nvjitlink-cu12, nvidia-nccl-cu12, nvidia-curand-cu12, nvidia-cufft-cu12, nvidia-cuda-runtime-cu12, nvidia-cuda-nvrtc-cu12, nvidia-cuda-cupti-cu12, nvidia-cublas-cu12, nvidia-cusparse-cu12, nvidia-cudnn-cu12, nvidia-cusolver-cu12, sentence-transformers\n",
            "Successfully installed nvidia-cublas-cu12-12.1.3.1 nvidia-cuda-cupti-cu12-12.1.105 nvidia-cuda-nvrtc-cu12-12.1.105 nvidia-cuda-runtime-cu12-12.1.105 nvidia-cudnn-cu12-8.9.2.26 nvidia-cufft-cu12-11.0.2.54 nvidia-curand-cu12-10.3.2.106 nvidia-cusolver-cu12-11.4.5.107 nvidia-cusparse-cu12-12.1.0.106 nvidia-nccl-cu12-2.20.5 nvidia-nvjitlink-cu12-12.6.20 nvidia-nvtx-cu12-12.1.105 sentence-transformers-3.0.1\n"
          ]
        }
      ],
      "source": [
        "!pip install sentence-transformers==3.0.1"
      ]
    },
    {
      "cell_type": "markdown",
      "metadata": {
        "id": "mbSAgh90-Gvu"
      },
      "source": [
        "# Retrieval Augmented Generation"
      ]
    },
    {
      "cell_type": "markdown",
      "metadata": {
        "id": "LEgp9ruS-YXB"
      },
      "source": [
        "### Initiating the query process"
      ]
    },
    {
      "cell_type": "markdown",
      "source": [
        "**Replace `hub://denis76/space_exploration_v1` by your organization and dataset name**"
      ],
      "metadata": {
        "id": "jIl534Kur2eT"
      }
    },
    {
      "cell_type": "code",
      "execution_count": null,
      "metadata": {
        "id": "rT7DXpFf-YXL"
      },
      "outputs": [],
      "source": [
        "vector_store_path = \"hub://denis76/space_exploration_v1\""
      ]
    },
    {
      "cell_type": "code",
      "execution_count": null,
      "metadata": {
        "id": "DD3AYI-o-YXL",
        "colab": {
          "base_uri": "https://localhost:8080/"
        },
        "outputId": "9b9c0a60-5958-4130-a808-c84322c132f6"
      },
      "outputs": [
        {
          "output_type": "stream",
          "name": "stderr",
          "text": [
            "|"
          ]
        },
        {
          "output_type": "stream",
          "name": "stdout",
          "text": [
            "This dataset can be visualized in Jupyter Notebook by ds.visualize() or at https://app.activeloop.ai/denis76/space_exploration_v1\n",
            "\n"
          ]
        },
        {
          "output_type": "stream",
          "name": "stderr",
          "text": [
            "\\"
          ]
        },
        {
          "output_type": "stream",
          "name": "stdout",
          "text": [
            "hub://denis76/space_exploration_v1 loaded successfully.\n",
            "\n"
          ]
        },
        {
          "output_type": "stream",
          "name": "stderr",
          "text": [
            "\r \r\r\r"
          ]
        }
      ],
      "source": [
        "from deeplake.core.vectorstore.deeplake_vectorstore import VectorStore\n",
        "import deeplake.util\n",
        "ds = deeplake.load(vector_store_path)"
      ]
    },
    {
      "cell_type": "code",
      "execution_count": null,
      "metadata": {
        "id": "1-YRhgXiUWjs",
        "colab": {
          "base_uri": "https://localhost:8080/"
        },
        "outputId": "5f866654-a949-4123-c943-dc24697cdad4"
      },
      "outputs": [
        {
          "output_type": "stream",
          "name": "stdout",
          "text": [
            "Deep Lake Dataset in hub://denis76/space_exploration_v1 already exists, loading from the storage\n"
          ]
        }
      ],
      "source": [
        "vector_store = VectorStore(path=vector_store_path)"
      ]
    },
    {
      "cell_type": "markdown",
      "metadata": {
        "id": "pfX3Y7iIjZUK"
      },
      "source": [
        "## Input and Query Retrieval"
      ]
    },
    {
      "cell_type": "markdown",
      "metadata": {
        "id": "J1Qx6ZGgJ20x"
      },
      "source": [
        "## Input"
      ]
    },
    {
      "cell_type": "markdown",
      "metadata": {
        "id": "S7SqWk-D14Hx"
      },
      "source": [
        "### Retrieval query"
      ]
    },
    {
      "cell_type": "code",
      "execution_count": null,
      "metadata": {
        "id": "8FPjLp7QVFtr"
      },
      "outputs": [],
      "source": [
        "def embedding_function(texts, model=\"text-embedding-3-small\"):\n",
        "   if isinstance(texts, str):\n",
        "       texts = [texts]\n",
        "   texts = [t.replace(\"\\n\", \" \") for t in texts]\n",
        "   return [data.embedding for data in openai.embeddings.create(input = texts, model=model).data]"
      ]
    },
    {
      "cell_type": "code",
      "execution_count": null,
      "metadata": {
        "id": "JJqzlZqj16yK",
        "colab": {
          "base_uri": "https://localhost:8080/"
        },
        "outputId": "05f0eda3-ea67-4038-a39b-0c8f77dcb4f1"
      },
      "outputs": [
        {
          "output_type": "stream",
          "name": "stdout",
          "text": [
            "{'id': ['741f2712-56fa-11ef-acb7-0242ac1c000c', '741f4d82-56fa-11ef-acb7-0242ac1c000c', '741f35b8-56fa-11ef-acb7-0242ac1c000c', '741f3fea-56fa-11ef-acb7-0242ac1c000c'], 'metadata': [{'source': 'llm.txt'}, {'source': 'llm.txt'}, {'source': 'llm.txt'}, {'source': 'llm.txt'}], 'text': ['Exploration of space, planets, and moons \"Space Exploration\" redirects here. For the company, see SpaceX . For broader coverage of this topic, see Exploration . Buzz Aldrin taking a core sample of the Moon during the Apollo 11 mission Self-portrait of Curiosity rover on Mars \\'s surface Part of a series on Spaceflight History History of spaceflight Space Race Timeline of spaceflight Space probes Lunar missions Mars missions Applications Communications Earth observation Exploration Espionage Military Navigation Settlement Telescopes Tourism Spacecraft Robotic spacecraft Satellite Space probe Cargo spacecraft Crewed spacecraft Apollo Lunar Module Space capsules Space Shuttle Space stations Spaceplanes Vostok Space launch Spaceport Launch pad Expendable and reusable launch vehicles Escape velocity Non-rocket spacelaunch Spaceflight types Sub-orbital Orbital Interplanetary Interstellar Intergalactic List of space organizations Space agencies Space forces Companies Spaceflight portal v t e S', \"m Energy development Exploration of Mars Space tourism Private spaceflight Space colonization Interstellar spaceflight Deep space exploration Human outpost Mars to Stay NewSpace NASA lunar outpost concepts Other [ edit ] List of spaceflights Timeline of Solar System exploration List of artificial objects on extra-terrestrial surfaces Space station Space telescope Sample return mission Atmospheric reentry Space and survival List of spaceflight-related accidents and incidents Religion in space Militarisation of space French space program Russian explorers U.S. space exploration history on U.S. stamps Deep-sea exploration Arctic exploration Criticism of space exploration\\n\\n\\nRobotic vehicle for Mars surface exploration This article is about autonomous exploration vehicles. For crewed vehicles on Mars, see Crewed Mars rover . NASA's Curiosity rover, selfie , 2015 A Mars rover is a remote-controlled motor vehicle designed to travel on the surface of Mars . Rovers have several advantages over \", 'rbiters, and in 2008 the Indian Moon Impact Probe and in 2023 the Chandrayaan-3 of India became the first spacecraft to land on the lunar south pole. Crewed exploration of the Moon began in 1968 with the Apollo 8 mission that successfully orbited the Moon, the first time any extraterrestrial object was orbited by humans. In 1969, the Apollo 11 mission marked the first time humans set foot upon another world. Crewed exploration of the Moon did not continue for long. The Apollo 17 mission in 1972 marked the sixth landing and the most recent human visit. Artemis 2 is scheduled to complete a crewed flyby of the Moon in 2025, and Artemis 3 will perform the first lunar landing since Apollo 17 with it scheduled for launch no earlier than 2026. Robotic missions are still pursued vigorously. Mars [ edit ] Main article: Exploration of Mars Surface of Mars by the Spirit rover (2004) The exploration of Mars has been an important part of the space exploration programs of the Soviet Union (later Rus', \" [ edit ] Main article: Space advocacy Astronaut Buzz Aldrin had a personal Communion service when he first arrived on the surface of the Moon . The research that is conducted by national space exploration agencies, such as NASA and Roscosmos , is one of the reasons supporters cite to justify government expenses. Economic analyses of the NASA programs often showed ongoing economic benefits (such as NASA spin-offs ), generating many times the revenue of the cost of the program.  It is also argued that space exploration would lead to the extraction of resources on other planets and especially asteroids, which contain billions of dollars worth of minerals and metals. Such expeditions could generate a lot of revenue.  In addition, it has been argued that space exploration programs help inspire youth to study in science and engineering.  Space exploration also gives scientists the ability to perform experiments in other settings and expand humanity's knowledge.  Another claim is that space \"], 'score': array([0.60165817, 0.5979746 , 0.5777255 , 0.5411655 ], dtype=float32)}\n"
          ]
        }
      ],
      "source": [
        "def get_user_prompt():\n",
        "    # Request user input for the search prompt\n",
        "    return input(\"Enter your search query: \")\n",
        "\n",
        "def search_query(prompt):\n",
        "    # Assuming `vector_store` and `embedding_function` are already defined\n",
        "    search_results = vector_store.search(embedding_data=prompt, embedding_function=embedding_function)\n",
        "    return search_results\n",
        "\n",
        "# Get the user's search query\n",
        "#user_prompt = get_user_prompt()\n",
        "# or enter prompt if it is in a queue\n",
        "user_prompt=\"Tell me about space exploration on the Moon and Mars.\"\n",
        "\n",
        "# Perform the search\n",
        "search_results = search_query(user_prompt)\n",
        "\n",
        "# Print the search results\n",
        "print(search_results)"
      ]
    },
    {
      "cell_type": "code",
      "execution_count": null,
      "metadata": {
        "id": "-fC2yn2PQr3I",
        "colab": {
          "base_uri": "https://localhost:8080/"
        },
        "outputId": "322348ac-b25d-4b55-c64f-16b23d480819"
      },
      "outputs": [
        {
          "output_type": "stream",
          "name": "stdout",
          "text": [
            "Tell me about space exploration on the Moon and Mars.\n"
          ]
        }
      ],
      "source": [
        "print(user_prompt)"
      ]
    },
    {
      "cell_type": "code",
      "execution_count": null,
      "metadata": {
        "id": "vU3LSjr_mQHW"
      },
      "outputs": [],
      "source": [
        "# Function to wrap text to a specified width\n",
        "def wrap_text(text, width=80):\n",
        "    lines = []\n",
        "    while len(text) > width:\n",
        "        split_index = text.rfind(' ', 0, width)\n",
        "        if split_index == -1:\n",
        "            split_index = width\n",
        "        lines.append(text[:split_index])\n",
        "        text = text[split_index:].strip()\n",
        "    lines.append(text)\n",
        "    return '\\n'.join(lines)"
      ]
    },
    {
      "cell_type": "code",
      "execution_count": null,
      "metadata": {
        "id": "rGsQPjOsQeWE",
        "colab": {
          "base_uri": "https://localhost:8080/"
        },
        "outputId": "92ee0f5e-7b80-40ce-bcd6-fba15d5c4b94"
      },
      "outputs": [
        {
          "output_type": "stream",
          "name": "stdout",
          "text": [
            "Top Search Result:\n",
            "Score: 0.6016581654548645\n",
            "Source: llm.txt\n",
            "Text:\n",
            "Exploration of space, planets, and moons \"Space Exploration\" redirects here.\n",
            "For the company, see SpaceX . For broader coverage of this topic, see\n",
            "Exploration . Buzz Aldrin taking a core sample of the Moon during the Apollo 11\n",
            "mission Self-portrait of Curiosity rover on Mars 's surface Part of a series on\n",
            "Spaceflight History History of spaceflight Space Race Timeline of spaceflight\n",
            "Space probes Lunar missions Mars missions Applications Communications Earth\n",
            "observation Exploration Espionage Military Navigation Settlement Telescopes\n",
            "Tourism Spacecraft Robotic spacecraft Satellite Space probe Cargo spacecraft\n",
            "Crewed spacecraft Apollo Lunar Module Space capsules Space Shuttle Space\n",
            "stations Spaceplanes Vostok Space launch Spaceport Launch pad Expendable and\n",
            "reusable launch vehicles Escape velocity Non-rocket spacelaunch Spaceflight\n",
            "types Sub-orbital Orbital Interplanetary Interstellar Intergalactic List of\n",
            "space organizations Space agencies Space forces Companies Spaceflight portal v\n",
            "t e S\n"
          ]
        }
      ],
      "source": [
        "import textwrap\n",
        "\n",
        "# Assuming the search results are ordered with the top result first\n",
        "top_score = search_results['score'][0]\n",
        "top_text = search_results['text'][0].strip()\n",
        "top_metadata = search_results['metadata'][0]['source']\n",
        "\n",
        "# Print the top search result\n",
        "print(\"Top Search Result:\")\n",
        "print(f\"Score: {top_score}\")\n",
        "print(f\"Source: {top_metadata}\")\n",
        "print(\"Text:\")\n",
        "print(wrap_text(top_text))"
      ]
    },
    {
      "cell_type": "markdown",
      "metadata": {
        "id": "RWi0gOUnkSi4"
      },
      "source": [
        "## Augmented Input"
      ]
    },
    {
      "cell_type": "code",
      "execution_count": null,
      "metadata": {
        "id": "ZX7tEEDWRD3r"
      },
      "outputs": [],
      "source": [
        "augmented_input=user_prompt+\" \"+top_text"
      ]
    },
    {
      "cell_type": "code",
      "execution_count": null,
      "metadata": {
        "id": "ASwAjnecRORo",
        "colab": {
          "base_uri": "https://localhost:8080/"
        },
        "outputId": "1b36618e-2339-480f-98e9-2bf9fba6b331"
      },
      "outputs": [
        {
          "output_type": "stream",
          "name": "stdout",
          "text": [
            "Tell me about space exploration on the Moon and Mars. Exploration of space, planets, and moons \"Space Exploration\" redirects here. For the company, see SpaceX . For broader coverage of this topic, see Exploration . Buzz Aldrin taking a core sample of the Moon during the Apollo 11 mission Self-portrait of Curiosity rover on Mars 's surface Part of a series on Spaceflight History History of spaceflight Space Race Timeline of spaceflight Space probes Lunar missions Mars missions Applications Communications Earth observation Exploration Espionage Military Navigation Settlement Telescopes Tourism Spacecraft Robotic spacecraft Satellite Space probe Cargo spacecraft Crewed spacecraft Apollo Lunar Module Space capsules Space Shuttle Space stations Spaceplanes Vostok Space launch Spaceport Launch pad Expendable and reusable launch vehicles Escape velocity Non-rocket spacelaunch Spaceflight types Sub-orbital Orbital Interplanetary Interstellar Intergalactic List of space organizations Space agencies Space forces Companies Spaceflight portal v t e S\n"
          ]
        }
      ],
      "source": [
        "print(augmented_input)"
      ]
    },
    {
      "cell_type": "markdown",
      "metadata": {
        "id": "N8YXkq4QkzJf"
      },
      "source": [
        "# Generation and  output"
      ]
    },
    {
      "cell_type": "code",
      "execution_count": null,
      "metadata": {
        "id": "mIlVfJCyVl_x",
        "colab": {
          "base_uri": "https://localhost:8080/"
        },
        "outputId": "8be9f81a-2692-49d0-b7f8-734859433444"
      },
      "outputs": [
        {
          "output_type": "stream",
          "name": "stdout",
          "text": [
            "Response Time: 8.44 seconds\n",
            "gpt-4o Response: Space exploration on the Moon and Mars has been a significant focus of human spaceflight and robotic missions. Here's a detailed summary of the key points:\n",
            "\n",
            "### Moon Exploration\n",
            "1. **Historical Missions**:\n",
            "   - **Apollo Missions**: NASA's Apollo program, particularly Apollo 11, marked the first manned Moon landing in 1969. Astronauts like Buzz Aldrin collected core samples and conducted experiments.\n",
            "   - **Lunar Missions**: Various missions have been conducted to explore the Moon, including robotic landers and orbiters from different countries.\n",
            "\n",
            "2. **Scientific Goals**:\n",
            "   - **Geological Studies**: Understanding the Moon's composition, structure, and history.\n",
            "   - **Resource Utilization**: Investigating the potential for mining resources like Helium-3 and water ice.\n",
            "\n",
            "3. **Future Plans**:\n",
            "   - **Artemis Program**: NASA's initiative to return humans to the Moon and establish a sustainable presence by the late 2020s.\n",
            "   - **International Collaboration**: Partnerships with other space agencies and private companies to build lunar bases and conduct scientific research.\n",
            "\n",
            "### Mars Exploration\n",
            "1. **Robotic Missions**:\n",
            "   - **Rovers**: NASA's rovers like Curiosity and Perseverance have been exploring Mars' surface, analyzing soil and rock samples, and searching for signs of past life.\n",
            "   - **Orbiters**: Various orbiters have been mapping Mars' surface and studying its atmosphere.\n",
            "\n",
            "2. **Scientific Goals**:\n",
            "   - **Astrobiology**: Searching for evidence of past or present life.\n",
            "   - **Climate and Geology**: Understanding Mars' climate history and geological processes.\n",
            "   - **Human Exploration**: Preparing for future manned missions by studying the planet's environment and potential hazards.\n",
            "\n",
            "3. **Future Plans**:\n",
            "   - **Manned Missions**: NASA aims to send astronauts to Mars in the 2030s. SpaceX also has ambitious plans to colonize Mars.\n",
            "   - **Sample Return Missions**: Missions to collect and return Martian samples to Earth for detailed analysis.\n",
            "\n",
            "### Broader Context of Space Exploration\n",
            "- **Spaceflight History**: The development of spaceflight from early missions to the present.\n",
            "- **Space Race**: The competition between the USA and the USSR during the Cold War that accelerated space exploration.\n",
            "- **Space Probes**: Unmanned missions to explore other planets, moons, and celestial bodies.\n",
            "- **Applications**: Space exploration has applications in communications, Earth observation, navigation, and even tourism.\n",
            "\n",
            "### Spacecraft and Technology\n",
            "- **Types of Spacecraft**: Includes robotic spacecraft, satellites, space probes, cargo spacecraft, and crewed spacecraft.\n",
            "- **Launch Vehicles**: Technologies for launching spacecraft, including expendable and reusable launch vehicles.\n",
            "- **Space Stations**: Habitats in space for long-term missions, such as the International Space Station (ISS).\n",
            "\n",
            "### Space Organizations\n",
            "- **Space Agencies**: Organizations like NASA, ESA, Roscosmos, CNSA, and ISRO.\n",
            "- **Private Companies**: Companies like SpaceX, Blue Origin, and others contributing to space exploration.\n",
            "- **Space Forces**: Military organizations focused on space operations.\n",
            "\n",
            "### Spaceflight Types\n",
            "- **Sub-orbital**: Flights that reach space but do not complete an orbit.\n",
            "- **Orbital**: Missions that achieve orbit around Earth or other celestial bodies.\n",
            "- **Interplanetary**: Missions traveling between planets.\n",
            "- **Interstellar and Intergalactic**: Theoretical missions beyond our solar system and galaxy.\n",
            "\n",
            "### Conclusion\n",
            "Space exploration of the Moon and Mars is a multifaceted endeavor involving historical achievements, ongoing scientific research, and ambitious future plans. It encompasses a wide range of technologies, missions, and international collaborations aimed at expanding our understanding of the universe and preparing for human expansion beyond Earth.\n"
          ]
        }
      ],
      "source": [
        "import openai\n",
        "from openai import OpenAI\n",
        "import time\n",
        "\n",
        "client = OpenAI()\n",
        "gpt_model=\"gpt-4o\"\n",
        "start_time = time.time()  # Start timing before the request\n",
        "\n",
        "def call_gpt4_with_full_text(itext):\n",
        "    # Join all lines to form a single string\n",
        "    text_input = '\\n'.join(itext)\n",
        "    prompt = f\"Please summarize or elaborate on the following content:\\n{text_input}\"\n",
        "\n",
        "    try:\n",
        "        response = client.chat.completions.create(\n",
        "            model=gpt_model,\n",
        "            messages=[\n",
        "                {\"role\": \"system\", \"content\": \"You are a space exploration expert.\"},\n",
        "                {\"role\": \"assistant\", \"content\": \"You can read the input and answer in detail.\"},\n",
        "                {\"role\": \"user\", \"content\": prompt}\n",
        "            ],\n",
        "            temperature=0.1  # Fine-tune parameters as needed\n",
        "        )\n",
        "        return response.choices[0].message.content\n",
        "    except Exception as e:\n",
        "        return str(e)\n",
        "\n",
        "gpt4_response = call_gpt4_with_full_text(augmented_input)\n",
        "\n",
        "response_time = time.time() - start_time  # Measure response time\n",
        "print(f\"Response Time: {response_time:.2f} seconds\")  # Print response time\n",
        "\n",
        "print(gpt_model, \"Response:\", gpt4_response)"
      ]
    },
    {
      "cell_type": "markdown",
      "metadata": {
        "id": "bVKe9VF0HIHJ"
      },
      "source": [
        "### Formatted response"
      ]
    },
    {
      "cell_type": "code",
      "source": [
        "import textwrap\n",
        "import re\n",
        "from IPython.display import display, Markdown, HTML\n",
        "import markdown\n",
        "\n",
        "def print_formatted_response(response):\n",
        "    # Check for markdown by looking for patterns like headers, bold, lists, etc.\n",
        "    markdown_patterns = [\n",
        "        r\"^#+\\s\",           # Headers\n",
        "        r\"^\\*+\",            # Bullet points\n",
        "        r\"\\*\\*\",            # Bold\n",
        "        r\"_\",               # Italics\n",
        "        r\"\\[.+\\]\\(.+\\)\",    # Links\n",
        "        r\"-\\s\",             # Dashes used for lists\n",
        "        r\"\\`\\`\\`\"           # Code blocks\n",
        "    ]\n",
        "\n",
        "    # If any pattern matches, assume the response is in markdown\n",
        "    if any(re.search(pattern, response, re.MULTILINE) for pattern in markdown_patterns):\n",
        "        # Markdown detected, convert to HTML for nicer display\n",
        "        html_output = markdown.markdown(response)\n",
        "        display(HTML(html_output))  # Use display(HTML()) to render HTML in Colab\n",
        "    else:\n",
        "        # No markdown detected, wrap and print as plain text\n",
        "        wrapper = textwrap.TextWrapper(width=80)\n",
        "        wrapped_text = wrapper.fill(text=response)\n",
        "\n",
        "        print(\"Text Response:\")\n",
        "        print(\"--------------------\")\n",
        "        print(wrapped_text)\n",
        "        print(\"--------------------\\n\")\n",
        "\n",
        "print_formatted_response(gpt4_response)"
      ],
      "metadata": {
        "colab": {
          "base_uri": "https://localhost:8080/",
          "height": 1000
        },
        "id": "5fEIdBsb1LR2",
        "outputId": "dc8cb536-5e74-4dc2-89b0-e655d6dfefe3"
      },
      "execution_count": null,
      "outputs": [
        {
          "output_type": "display_data",
          "data": {
            "text/plain": [
              "<IPython.core.display.HTML object>"
            ],
            "text/html": [
              "<p>Space exploration on the Moon and Mars has been a significant focus of human spaceflight and robotic missions. Here's a detailed summary of the key points:</p>\n",
              "<h3>Moon Exploration</h3>\n",
              "<ol>\n",
              "<li><strong>Historical Missions</strong>:</li>\n",
              "<li><strong>Apollo Missions</strong>: NASA's Apollo program, particularly Apollo 11, marked the first manned Moon landing in 1969. Astronauts like Buzz Aldrin collected core samples and conducted experiments.</li>\n",
              "<li>\n",
              "<p><strong>Lunar Missions</strong>: Various missions have been conducted to explore the Moon, including robotic landers and orbiters from different countries.</p>\n",
              "</li>\n",
              "<li>\n",
              "<p><strong>Scientific Goals</strong>:</p>\n",
              "</li>\n",
              "<li><strong>Geological Studies</strong>: Understanding the Moon's composition, structure, and history.</li>\n",
              "<li>\n",
              "<p><strong>Resource Utilization</strong>: Investigating the potential for mining resources like Helium-3 and water ice.</p>\n",
              "</li>\n",
              "<li>\n",
              "<p><strong>Future Plans</strong>:</p>\n",
              "</li>\n",
              "<li><strong>Artemis Program</strong>: NASA's initiative to return humans to the Moon and establish a sustainable presence by the late 2020s.</li>\n",
              "<li><strong>International Collaboration</strong>: Partnerships with other space agencies and private companies to build lunar bases and conduct scientific research.</li>\n",
              "</ol>\n",
              "<h3>Mars Exploration</h3>\n",
              "<ol>\n",
              "<li><strong>Robotic Missions</strong>:</li>\n",
              "<li><strong>Rovers</strong>: NASA's rovers like Curiosity and Perseverance have been exploring Mars' surface, analyzing soil and rock samples, and searching for signs of past life.</li>\n",
              "<li>\n",
              "<p><strong>Orbiters</strong>: Various orbiters have been mapping Mars' surface and studying its atmosphere.</p>\n",
              "</li>\n",
              "<li>\n",
              "<p><strong>Scientific Goals</strong>:</p>\n",
              "</li>\n",
              "<li><strong>Astrobiology</strong>: Searching for evidence of past or present life.</li>\n",
              "<li><strong>Climate and Geology</strong>: Understanding Mars' climate history and geological processes.</li>\n",
              "<li>\n",
              "<p><strong>Human Exploration</strong>: Preparing for future manned missions by studying the planet's environment and potential hazards.</p>\n",
              "</li>\n",
              "<li>\n",
              "<p><strong>Future Plans</strong>:</p>\n",
              "</li>\n",
              "<li><strong>Manned Missions</strong>: NASA aims to send astronauts to Mars in the 2030s. SpaceX also has ambitious plans to colonize Mars.</li>\n",
              "<li><strong>Sample Return Missions</strong>: Missions to collect and return Martian samples to Earth for detailed analysis.</li>\n",
              "</ol>\n",
              "<h3>Broader Context of Space Exploration</h3>\n",
              "<ul>\n",
              "<li><strong>Spaceflight History</strong>: The development of spaceflight from early missions to the present.</li>\n",
              "<li><strong>Space Race</strong>: The competition between the USA and the USSR during the Cold War that accelerated space exploration.</li>\n",
              "<li><strong>Space Probes</strong>: Unmanned missions to explore other planets, moons, and celestial bodies.</li>\n",
              "<li><strong>Applications</strong>: Space exploration has applications in communications, Earth observation, navigation, and even tourism.</li>\n",
              "</ul>\n",
              "<h3>Spacecraft and Technology</h3>\n",
              "<ul>\n",
              "<li><strong>Types of Spacecraft</strong>: Includes robotic spacecraft, satellites, space probes, cargo spacecraft, and crewed spacecraft.</li>\n",
              "<li><strong>Launch Vehicles</strong>: Technologies for launching spacecraft, including expendable and reusable launch vehicles.</li>\n",
              "<li><strong>Space Stations</strong>: Habitats in space for long-term missions, such as the International Space Station (ISS).</li>\n",
              "</ul>\n",
              "<h3>Space Organizations</h3>\n",
              "<ul>\n",
              "<li><strong>Space Agencies</strong>: Organizations like NASA, ESA, Roscosmos, CNSA, and ISRO.</li>\n",
              "<li><strong>Private Companies</strong>: Companies like SpaceX, Blue Origin, and others contributing to space exploration.</li>\n",
              "<li><strong>Space Forces</strong>: Military organizations focused on space operations.</li>\n",
              "</ul>\n",
              "<h3>Spaceflight Types</h3>\n",
              "<ul>\n",
              "<li><strong>Sub-orbital</strong>: Flights that reach space but do not complete an orbit.</li>\n",
              "<li><strong>Orbital</strong>: Missions that achieve orbit around Earth or other celestial bodies.</li>\n",
              "<li><strong>Interplanetary</strong>: Missions traveling between planets.</li>\n",
              "<li><strong>Interstellar and Intergalactic</strong>: Theoretical missions beyond our solar system and galaxy.</li>\n",
              "</ul>\n",
              "<h3>Conclusion</h3>\n",
              "<p>Space exploration of the Moon and Mars is a multifaceted endeavor involving historical achievements, ongoing scientific research, and ambitious future plans. It encompasses a wide range of technologies, missions, and international collaborations aimed at expanding our understanding of the universe and preparing for human expansion beyond Earth.</p>"
            ]
          },
          "metadata": {}
        }
      ]
    },
    {
      "cell_type": "markdown",
      "metadata": {
        "id": "JtBVjikKmPHt"
      },
      "source": [
        "# Evaluating the output with  Cosine Similarity"
      ]
    },
    {
      "cell_type": "markdown",
      "metadata": {
        "id": "YM5N5Y70dtgw"
      },
      "source": [
        "with initial user prompt"
      ]
    },
    {
      "cell_type": "code",
      "execution_count": null,
      "metadata": {
        "id": "CieQCTEvHS4L",
        "colab": {
          "base_uri": "https://localhost:8080/"
        },
        "outputId": "f5dfc53e-40d9-44ea-dc9c-56d8132859d6"
      },
      "outputs": [
        {
          "output_type": "stream",
          "name": "stdout",
          "text": [
            "Cosine Similarity Score: 0.396\n"
          ]
        }
      ],
      "source": [
        "from sklearn.feature_extraction.text import TfidfVectorizer\n",
        "from sklearn.metrics.pairwise import cosine_similarity\n",
        "\n",
        "def calculate_cosine_similarity(text1, text2):\n",
        "    vectorizer = TfidfVectorizer()\n",
        "    tfidf = vectorizer.fit_transform([text1, text2])\n",
        "    similarity = cosine_similarity(tfidf[0:1], tfidf[1:2])\n",
        "    return similarity[0][0]\n",
        "\n",
        "similarity_score = calculate_cosine_similarity(user_prompt, gpt4_response)\n",
        "\n",
        "print(f\"Cosine Similarity Score: {similarity_score:.3f}\")"
      ]
    },
    {
      "cell_type": "markdown",
      "metadata": {
        "id": "yWf6gnlgdxC8"
      },
      "source": [
        "with augmented user prompt"
      ]
    },
    {
      "cell_type": "code",
      "execution_count": null,
      "metadata": {
        "id": "Hob835ASWzxe",
        "colab": {
          "base_uri": "https://localhost:8080/"
        },
        "outputId": "dcefdb6c-a88d-44b7-a670-54f34d304738"
      },
      "outputs": [
        {
          "output_type": "stream",
          "name": "stdout",
          "text": [
            "Cosine Similarity Score: 0.857\n"
          ]
        }
      ],
      "source": [
        "similarity_score = calculate_cosine_similarity(augmented_input, gpt4_response)\n",
        "\n",
        "print(f\"Cosine Similarity Score: {similarity_score:.3f}\")"
      ]
    },
    {
      "cell_type": "code",
      "source": [
        "from sentence_transformers import SentenceTransformer\n",
        "model = SentenceTransformer('all-MiniLM-L6-v2')"
      ],
      "metadata": {
        "id": "I1buzUNETEsH",
        "colab": {
          "base_uri": "https://localhost:8080/",
          "height": 424,
          "referenced_widgets": [
            "0d6640ff9c434cd9a9de6929c19f0e0b",
            "c1a19fbcec144745964083aed7621fe3",
            "27ff3eff73624b2ca5ec61aa576c253b",
            "8e5e5092f7b5433daa168d9c27eb0333",
            "670b27057c024346b925bbbbe738f820",
            "73a3f5c4a828497db662db7a07d120e9",
            "d1a2013bb9424ab69e2078b8d79a29e1",
            "6c7ac6ce1b054478b2214fa2465aee6c",
            "d91c0e16448d48c9bc1dc21e31c8c682",
            "9311318306dd4b9a87c3558f12d76b9f",
            "49061c9996cc416c9521c53ec25368ae",
            "9e8e26f9ecf34ba6807fe313f99569d5",
            "f3b5610bb31e48fbbfeeb48a6fbba48c",
            "fb1895bfc0774167b01e1934967319ad",
            "a6b07740b3144f36874f25d68e58997c",
            "dcd49cf9936647409aff981bc9bd4675",
            "19786b23d6fe470c97ed95040ea8ca90",
            "557028f5f50e4e1095195cf5d242a5f0",
            "fc11c680017d43deb0eabe308f039f88",
            "4df86fa1ac5f4ff7bb0ce9d4694ab057",
            "212781c385e94c1ba1a3279a77d26e74",
            "abaf7c34de114d29bb7a9e103172cbbd",
            "f0263feaa3d146919e27178bec421e77",
            "53dce3d017a7488899c2498b53daeaa5",
            "e2256ddc0c14481ab89811f3bdfe7a8b",
            "293b3b387b984dfe9fbf33df5dd0095d",
            "c544ac7909b74236887c9b2ec90bee9a",
            "4ffb264f26c24e0890236fee4deb47aa",
            "8f8cefd988d848bf940fb016debcbdd5",
            "5b60c2fb7e2846fd918149a0503795ee",
            "717df960fb864c24a015a6acdedcc07a",
            "b2c590dfe2794d95b1b6097dd17bf7fd",
            "c1da5d2f6ec449f6b7bdabe7dd44da12",
            "d38e1baaab4f400ca3049a25a78e4eab",
            "7c0d9ab56df04b649bc94b0cced898c7",
            "08e1a44275244029b5056c1e550591f0",
            "b3bc4647c07b4366bb9a5eabb7d7638c",
            "f3bb72bd4a1745e4a08003211698273e",
            "fa09301dc6c0410d857d0b2a844e0be1",
            "67ac1b9e4cfe4cb5912cba4324d1a473",
            "52d5b06ca96d45c6a1b31a96ab204481",
            "9916cdd030bd4966a3ec46b5f8d6a26a",
            "81046ad5c64147f88edc3c7c12bfec23",
            "ea09c561af844db3b62da2a457bb5f33",
            "888e6a6c063444c593fb23efca194d9a",
            "c4f4b3c979ad402b8d21c9cfca6f7de7",
            "b889d87c6a6640c699456cd900b8f9f1",
            "42600c66ab7544849b46d6de20a568a2",
            "841f8b98633c4f3bbb90473ee3565370",
            "d6b15dbe72ea49959e362942767beb6a",
            "c1653bc12b034296b1ae4c78f65fa8d5",
            "e4292259eb2b4f08a66c3bd11e465296",
            "9d17f546c3674a50abd335e4e7f7dcce",
            "abea92ff59254fe1af3f49f4d8680f51",
            "0cb0e53f65ef4335bc769940994b33d4",
            "5fa010fa17ed4ad38cf5d53450352d64",
            "3a9673495c914c019e18e293414f71c3",
            "03e393268c694cfb834ba0cc93e736d6",
            "5c2dad5c4c334ffca732b174dff7c44c",
            "e575965dcb2b4a80ac2f3a94c18eaac3",
            "63e28102901342558ce1afd0a074b14e",
            "c69752f288584a959278cdec6c8c641f",
            "d1d1b4ca2a1f4a1c8b8b440d935132be",
            "c79bd265f1e4450d8f738895c2cf3e60",
            "ea233dcfafab4511ba3c64cd59b18e11",
            "1476a900423e4045b5d03a65b6be5383",
            "52f3860b4b484fcdbc6d8b9bd9a6f285",
            "569add74393d426e82b8052f73f3eb44",
            "5fd5b44dfcca436da007f297c521b08a",
            "8d158563a6de43dfa0351b8251bff9ff",
            "8709b322f82c4f1fb796cf8c5754ef03",
            "b74bfe49a2914481b4bc5d65b3ed7735",
            "656eef9fc8ee469d970b6778769ddbbe",
            "b46bd1839fe3486897a94171afe4f4c9",
            "e09c991536ca4007a89bb0404a75a8fd",
            "bce552deb6344e849d764ce4ec269f6e",
            "288afacbc77b44d0a3d09be121c34244",
            "1e37252267504bb383bd938c8d4f5ecb",
            "4b1f53303293491ca426c21befbb03c3",
            "8638c4c007794f57a6ff7e6729978d34",
            "8f18236bd0704d9398d23410e5c0953d",
            "60918571f7714e84924ed98a994ab600",
            "6d5bf157b0c14f6e945c51181fd179c1",
            "4ed5bc50c7444a219d5502dac0a9f293",
            "9e8ce352a4c6481b9fabf80c8949da49",
            "6990872ea6964160b2378df1cebf30ce",
            "8783ea9182804e148821d28db15faee8",
            "62ebfb2beb574d95a546406016b448c3",
            "23aa1cebde614283baee8e653cc2d3ca",
            "ea3134fbccbd4ac9b531d2408d9d2dbb",
            "9faa5ab9282649ddbaec44ff632a3d99",
            "09b80c2b238f4d64a6c648c4fbf46568",
            "99520c4c00474974acfa10bcda76d7dd",
            "9f1b8dba92a845aa891b69e7d815c43f",
            "eb58f989a66a466fa013ce1681210108",
            "894e2f573e1e4a299572075f5d70df28",
            "511b7336b10440efad3fc3987436c383",
            "fadf23dfba1f46bca9c8ea9898915137",
            "e64ef9d7c6644d3294c89ff744fab230",
            "7080ec42544249db884bb44b5aacdd0a",
            "d766c42fed1344608813d7a40cdcf084",
            "e1dc866dae6c4c1e84299d07f1863276",
            "585f481e15a5403daa6226434b4da935",
            "7bc715d8c3974d8db66fde88a85aad4e",
            "6e25e04422d948d6bc080c431c8d7584",
            "48f39cb3a9c541b199accf530fec3671",
            "99887a31164345cd9dfbaf9c9d981097",
            "96e70e38c5044e84b6a978dc10f20145",
            "6b42d824bb2b41e99c2124626261ba7a",
            "2498e22558e140bf886c2159ee952421",
            "f3be3e5a63ce485ea5aa8524fe0edff2",
            "70c3277422d24bf695717263cdef86dd",
            "91f378a7009b4cd0a6b758fb3f3751da",
            "48b200301cbd43519c411c644a67dc5d",
            "bcb2543f10344ef2956c09186a2ce4b2",
            "1c5e40b3841b4baf88980a4ffea802a8",
            "95db0d41a533458094a64ebe82bd3fa5",
            "99f0fdcdb3a34babad99c0ee40aedeb9",
            "d12326de46754db4995c2e7d17a00fc3",
            "5c2b845e54804ff89ff65dfe936c5b35",
            "b67b1ba2ba834b3b86720ac400d4bdeb"
          ]
        },
        "outputId": "4b45e576-79a0-411f-fb58-d6a3597c1361"
      },
      "execution_count": null,
      "outputs": [
        {
          "output_type": "stream",
          "name": "stderr",
          "text": [
            "/usr/local/lib/python3.10/dist-packages/sentence_transformers/cross_encoder/CrossEncoder.py:11: TqdmExperimentalWarning: Using `tqdm.autonotebook.tqdm` in notebook mode. Use `tqdm.tqdm` instead to force console mode (e.g. in jupyter console)\n",
            "  from tqdm.autonotebook import tqdm, trange\n"
          ]
        },
        {
          "output_type": "display_data",
          "data": {
            "text/plain": [
              "modules.json:   0%|          | 0.00/349 [00:00<?, ?B/s]"
            ],
            "application/vnd.jupyter.widget-view+json": {
              "version_major": 2,
              "version_minor": 0,
              "model_id": "0d6640ff9c434cd9a9de6929c19f0e0b"
            }
          },
          "metadata": {}
        },
        {
          "output_type": "display_data",
          "data": {
            "text/plain": [
              "config_sentence_transformers.json:   0%|          | 0.00/116 [00:00<?, ?B/s]"
            ],
            "application/vnd.jupyter.widget-view+json": {
              "version_major": 2,
              "version_minor": 0,
              "model_id": "9e8e26f9ecf34ba6807fe313f99569d5"
            }
          },
          "metadata": {}
        },
        {
          "output_type": "display_data",
          "data": {
            "text/plain": [
              "README.md:   0%|          | 0.00/10.7k [00:00<?, ?B/s]"
            ],
            "application/vnd.jupyter.widget-view+json": {
              "version_major": 2,
              "version_minor": 0,
              "model_id": "f0263feaa3d146919e27178bec421e77"
            }
          },
          "metadata": {}
        },
        {
          "output_type": "display_data",
          "data": {
            "text/plain": [
              "sentence_bert_config.json:   0%|          | 0.00/53.0 [00:00<?, ?B/s]"
            ],
            "application/vnd.jupyter.widget-view+json": {
              "version_major": 2,
              "version_minor": 0,
              "model_id": "d38e1baaab4f400ca3049a25a78e4eab"
            }
          },
          "metadata": {}
        },
        {
          "output_type": "display_data",
          "data": {
            "text/plain": [
              "config.json:   0%|          | 0.00/612 [00:00<?, ?B/s]"
            ],
            "application/vnd.jupyter.widget-view+json": {
              "version_major": 2,
              "version_minor": 0,
              "model_id": "888e6a6c063444c593fb23efca194d9a"
            }
          },
          "metadata": {}
        },
        {
          "output_type": "display_data",
          "data": {
            "text/plain": [
              "model.safetensors:   0%|          | 0.00/90.9M [00:00<?, ?B/s]"
            ],
            "application/vnd.jupyter.widget-view+json": {
              "version_major": 2,
              "version_minor": 0,
              "model_id": "5fa010fa17ed4ad38cf5d53450352d64"
            }
          },
          "metadata": {}
        },
        {
          "output_type": "display_data",
          "data": {
            "text/plain": [
              "tokenizer_config.json:   0%|          | 0.00/350 [00:00<?, ?B/s]"
            ],
            "application/vnd.jupyter.widget-view+json": {
              "version_major": 2,
              "version_minor": 0,
              "model_id": "52f3860b4b484fcdbc6d8b9bd9a6f285"
            }
          },
          "metadata": {}
        },
        {
          "output_type": "display_data",
          "data": {
            "text/plain": [
              "vocab.txt:   0%|          | 0.00/232k [00:00<?, ?B/s]"
            ],
            "application/vnd.jupyter.widget-view+json": {
              "version_major": 2,
              "version_minor": 0,
              "model_id": "1e37252267504bb383bd938c8d4f5ecb"
            }
          },
          "metadata": {}
        },
        {
          "output_type": "display_data",
          "data": {
            "text/plain": [
              "tokenizer.json:   0%|          | 0.00/466k [00:00<?, ?B/s]"
            ],
            "application/vnd.jupyter.widget-view+json": {
              "version_major": 2,
              "version_minor": 0,
              "model_id": "23aa1cebde614283baee8e653cc2d3ca"
            }
          },
          "metadata": {}
        },
        {
          "output_type": "display_data",
          "data": {
            "text/plain": [
              "special_tokens_map.json:   0%|          | 0.00/112 [00:00<?, ?B/s]"
            ],
            "application/vnd.jupyter.widget-view+json": {
              "version_major": 2,
              "version_minor": 0,
              "model_id": "7080ec42544249db884bb44b5aacdd0a"
            }
          },
          "metadata": {}
        },
        {
          "output_type": "display_data",
          "data": {
            "text/plain": [
              "1_Pooling/config.json:   0%|          | 0.00/190 [00:00<?, ?B/s]"
            ],
            "application/vnd.jupyter.widget-view+json": {
              "version_major": 2,
              "version_minor": 0,
              "model_id": "f3be3e5a63ce485ea5aa8524fe0edff2"
            }
          },
          "metadata": {}
        }
      ]
    },
    {
      "cell_type": "code",
      "execution_count": null,
      "metadata": {
        "id": "KH4d5jnpY2tN",
        "colab": {
          "base_uri": "https://localhost:8080/"
        },
        "outputId": "322ae1c9-7ceb-406c-cd8d-8e309735590d"
      },
      "outputs": [
        {
          "output_type": "stream",
          "name": "stdout",
          "text": [
            "Cosine Similarity Score: 0.739\n"
          ]
        }
      ],
      "source": [
        "def calculate_cosine_similarity_with_embeddings(text1, text2):\n",
        "    embeddings1 = model.encode(text1)\n",
        "    embeddings2 = model.encode(text2)\n",
        "    similarity = cosine_similarity([embeddings1], [embeddings2])\n",
        "    return similarity[0][0]\n",
        "\n",
        "\n",
        "similarity_score = calculate_cosine_similarity_with_embeddings(augmented_input, gpt4_response)\n",
        "print(f\"Cosine Similarity Score: {similarity_score:.3f}\")"
      ]
    }
  ],
  "metadata": {
    "colab": {
      "provenance": [],
      "collapsed_sections": [
        "J1Qx6ZGgJ20x"
      ],
      "mount_file_id": "1gjwqoCHDA5wr3y_66gIPBkxwyD5CPYlj",
      "authorship_tag": "ABX9TyMBAyVVZjX5bUnFhtnsOPO9"
    },
    "kernelspec": {
      "display_name": "Python 3",
      "name": "python3"
    },
    "language_info": {
      "name": "python"
    }
  },
  "nbformat": 4,
  "nbformat_minor": 0
}
